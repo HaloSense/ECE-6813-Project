{
 "cells": [
  {
   "cell_type": "code",
   "execution_count": 21,
   "id": "66a4f8e3",
   "metadata": {},
   "outputs": [],
   "source": [
    "import numpy as np"
   ]
  },
  {
   "cell_type": "code",
   "execution_count": 3,
   "id": "8c9ef2e9",
   "metadata": {},
   "outputs": [],
   "source": [
    "handLabels = {\n",
    "    0: 'zero',\n",
    "    1: 'one',\n",
    "    2: 'two',\n",
    "    3: 'three',\n",
    "    4: 'four'\n",
    "}"
   ]
  },
  {
   "cell_type": "code",
   "execution_count": 9,
   "id": "9b20a0aa",
   "metadata": {},
   "outputs": [
    {
     "name": "stdout",
     "output_type": "stream",
     "text": [
      "['zero', 'two', 'four']\n"
     ]
    }
   ],
   "source": [
    "hands = [0,2,4]\n",
    "labels = []\n",
    "for hand in hands:\n",
    "    labels.append(handLabels[hand])\n",
    "    \n",
    "print(labels)"
   ]
  },
  {
   "cell_type": "code",
   "execution_count": 17,
   "id": "e4f1ebf5",
   "metadata": {},
   "outputs": [],
   "source": [
    "def in_zone(point, zone_left_top, zone_right_bot):\n",
    "    '''\n",
    "    Determine whether a point is in a 2-D rectangular zone.\n",
    "\n",
    "    Assume that for every dimension, zone_left_top has smallest margin and zone_right_bot has the largest margin.\n",
    "    point: The point to determine.\n",
    "    zone_left_top: Left top point of zone.\n",
    "    zone_right_bot: Right bottom point of zone.\n",
    "\n",
    "    Return: flag_inzone (boolean)\n",
    "    '''\n",
    "\n",
    "    # Retrieve number of dimensions\n",
    "    len_pt = len(point)\n",
    "    len_lt = len(zone_left_top)\n",
    "    len_rb = len(zone_right_bot)\n",
    "\n",
    "    # Check the input dimensions\n",
    "    if len_pt == len_lt and len_pt == len_rb:\n",
    "\n",
    "        # Initiate flag_inzone\n",
    "        flag_inzone = True\n",
    "\n",
    "        # Iterate through dimensions\n",
    "        for idx in range(len_pt):\n",
    "\n",
    "            # If in any dimension, point is not in the zone, set flag to false\n",
    "            if point[idx] < zone_left_top[idx] or point[idx] > zone_right_bot[idx]:\n",
    "                flag_inzone = False\n",
    "\n",
    "    else:\n",
    "        # If the input dimensions don't match, raise exception\n",
    "        raise RuntimeError('Input dimensions don\\'t match.')\n",
    "\n",
    "    return flag_inzone"
   ]
  },
  {
   "cell_type": "code",
   "execution_count": 19,
   "id": "a1824b22",
   "metadata": {},
   "outputs": [
    {
     "data": {
      "text/plain": [
       "True"
      ]
     },
     "execution_count": 19,
     "metadata": {},
     "output_type": "execute_result"
    }
   ],
   "source": [
    "zone = [(50, 100), (80, 200)]\n",
    "point = (60, 100)\n",
    "\n",
    "in_zone(point, zone[0], zone[1])"
   ]
  },
  {
   "cell_type": "code",
   "execution_count": 23,
   "id": "0c20841b",
   "metadata": {},
   "outputs": [
    {
     "name": "stdout",
     "output_type": "stream",
     "text": [
      "[[1 1]\n",
      " [2 3]\n",
      " [3 5]]\n"
     ]
    }
   ],
   "source": [
    "list = [(1,1),(2,3),(3,5)]\n",
    "\n",
    "array = np.array(list)\n",
    "print(array)"
   ]
  },
  {
   "cell_type": "code",
   "execution_count": 24,
   "id": "88522806",
   "metadata": {},
   "outputs": [
    {
     "name": "stdout",
     "output_type": "stream",
     "text": [
      "[20, 15, 10, 5, 12, 8, 4, 6, 3, 2]\n"
     ]
    }
   ],
   "source": [
    "array = ([5,4,3,2,1])\n",
    "array2 = array\n",
    "mtp = []\n",
    "for i in range(len(array)-1):\n",
    "    for j in  range(i+1, len(array)):\n",
    "        mtp.append(array[i] * array2[j])\n",
    "\n",
    "print(mtp)"
   ]
  },
  {
   "cell_type": "code",
   "execution_count": null,
   "id": "1e69d317",
   "metadata": {},
   "outputs": [],
   "source": []
  }
 ],
 "metadata": {
  "kernelspec": {
   "display_name": "Python 3 (ipykernel)",
   "language": "python",
   "name": "python3"
  },
  "language_info": {
   "codemirror_mode": {
    "name": "ipython",
    "version": 3
   },
   "file_extension": ".py",
   "mimetype": "text/x-python",
   "name": "python",
   "nbconvert_exporter": "python",
   "pygments_lexer": "ipython3",
   "version": "3.9.7"
  }
 },
 "nbformat": 4,
 "nbformat_minor": 5
}
