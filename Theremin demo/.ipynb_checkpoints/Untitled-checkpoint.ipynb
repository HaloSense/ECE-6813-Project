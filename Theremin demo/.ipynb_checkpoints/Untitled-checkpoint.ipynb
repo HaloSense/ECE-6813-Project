{
 "cells": [
  {
   "cell_type": "code",
   "execution_count": 3,
   "id": "ee3f0ef7",
   "metadata": {},
   "outputs": [],
   "source": [
    "handLabels = {\n",
    "    0: 'zero',\n",
    "    1: 'one',\n",
    "    2: 'two',\n",
    "    3: 'three',\n",
    "    4: 'four'\n",
    "}"
   ]
  },
  {
   "cell_type": "code",
   "execution_count": 9,
   "id": "3755fb9c",
   "metadata": {},
   "outputs": [
    {
     "name": "stdout",
     "output_type": "stream",
     "text": [
      "['zero', 'two', 'four']\n"
     ]
    }
   ],
   "source": [
    "hands = [0,2,4]\n",
    "labels = []\n",
    "for hand in hands:\n",
    "    labels.append(handLabels[hand])\n",
    "    \n",
    "print(labels)"
   ]
  },
  {
   "cell_type": "code",
   "execution_count": 10,
   "id": "c692b719",
   "metadata": {},
   "outputs": [],
   "source": [
    "def in_zone(point, zone_left_top, zone_right_bot):\n",
    "    '''\n",
    "    Determine whether a point is in a 2-D rectangular zone.\n",
    "\n",
    "    Assume that for every dimension, zone_left_top has smallest margin and zone_right_bot has the largest margin.\n",
    "    point: The point to determine.\n",
    "    zone_left_top: Left top point of zone.\n",
    "    zone_right_bot: Right bottom point of zone.\n",
    "\n",
    "    Return: flag_inzone (boolean)\n",
    "    '''\n",
    "\n",
    "    # Retrieve number of dimensions\n",
    "    len_pt = len(point)\n",
    "    len_lt = len(zone_left_top)\n",
    "    len_rb = len(zone_right_bot)\n",
    "\n",
    "    # Check the input dimensions\n",
    "    if len_pt == len_lt and len_pt == len_rb:\n",
    "\n",
    "        # Initiate flag_inzone\n",
    "        flag_inzone = True\n",
    "\n",
    "        # Iterate through dimensions\n",
    "        for idx in range(len_pt):\n",
    "\n",
    "            # If in any dimension, point is not in the zone, set flag to false\n",
    "            if point[idx] < zone_left_top[idx] or point[idx] > zone_right_bot[idx]:\n",
    "                flag_inzone = False\n",
    "\n",
    "    else:\n",
    "        # If the input dimensions don't match, raise exception\n",
    "        raise RuntimeError('Input dimensions doesn\\'t match.')\n",
    "\n",
    "    return flag_inzone"
   ]
  },
  {
   "cell_type": "code",
   "execution_count": 14,
   "id": "21669a84",
   "metadata": {},
   "outputs": [
    {
     "ename": "TypeError",
     "evalue": "exceptions must derive from BaseException",
     "output_type": "error",
     "traceback": [
      "\u001b[1;31m---------------------------------------------------------------------------\u001b[0m",
      "\u001b[1;31mTypeError\u001b[0m                                 Traceback (most recent call last)",
      "\u001b[1;32m~\\AppData\\Local\\Temp/ipykernel_12896/60248393.py\u001b[0m in \u001b[0;36m<module>\u001b[1;34m\u001b[0m\n\u001b[0;32m      2\u001b[0m \u001b[0mpoint\u001b[0m \u001b[1;33m=\u001b[0m \u001b[1;33m(\u001b[0m\u001b[1;36m60\u001b[0m\u001b[1;33m,\u001b[0m \u001b[1;36m100\u001b[0m\u001b[1;33m)\u001b[0m\u001b[1;33m\u001b[0m\u001b[1;33m\u001b[0m\u001b[0m\n\u001b[0;32m      3\u001b[0m \u001b[1;33m\u001b[0m\u001b[0m\n\u001b[1;32m----> 4\u001b[1;33m \u001b[0min_zone\u001b[0m\u001b[1;33m(\u001b[0m\u001b[0mpoint\u001b[0m\u001b[1;33m,\u001b[0m \u001b[0mzone\u001b[0m\u001b[1;33m[\u001b[0m\u001b[1;36m0\u001b[0m\u001b[1;33m]\u001b[0m\u001b[1;33m,\u001b[0m \u001b[0mzone\u001b[0m\u001b[1;33m[\u001b[0m\u001b[1;36m1\u001b[0m\u001b[1;33m]\u001b[0m\u001b[1;33m)\u001b[0m\u001b[1;33m\u001b[0m\u001b[1;33m\u001b[0m\u001b[0m\n\u001b[0m",
      "\u001b[1;32m~\\AppData\\Local\\Temp/ipykernel_12896/3916787316.py\u001b[0m in \u001b[0;36min_zone\u001b[1;34m(point, zone_left_top, zone_right_bot)\u001b[0m\n\u001b[0;32m     31\u001b[0m     \u001b[1;32melse\u001b[0m\u001b[1;33m:\u001b[0m\u001b[1;33m\u001b[0m\u001b[1;33m\u001b[0m\u001b[0m\n\u001b[0;32m     32\u001b[0m         \u001b[1;31m# If the input dimensions don't match, raise exception\u001b[0m\u001b[1;33m\u001b[0m\u001b[1;33m\u001b[0m\u001b[0m\n\u001b[1;32m---> 33\u001b[1;33m         \u001b[1;32mraise\u001b[0m \u001b[1;33m[\u001b[0m\u001b[0mRuntimeError\u001b[0m\u001b[1;33m(\u001b[0m\u001b[1;34m'Input dimensions doesn\\'t match.'\u001b[0m\u001b[1;33m)\u001b[0m\u001b[1;33m]\u001b[0m\u001b[1;33m\u001b[0m\u001b[1;33m\u001b[0m\u001b[0m\n\u001b[0m\u001b[0;32m     34\u001b[0m \u001b[1;33m\u001b[0m\u001b[0m\n\u001b[0;32m     35\u001b[0m     \u001b[1;32mreturn\u001b[0m \u001b[0mflag_inzone\u001b[0m\u001b[1;33m\u001b[0m\u001b[1;33m\u001b[0m\u001b[0m\n",
      "\u001b[1;31mTypeError\u001b[0m: exceptions must derive from BaseException"
     ]
    }
   ],
   "source": [
    "zone = [(50, 100, 20), (80, 200)]\n",
    "point = (60, 100)\n",
    "\n",
    "in_zone(point, zone[0], zone[1])"
   ]
  },
  {
   "cell_type": "code",
   "execution_count": null,
   "id": "3e3d9351",
   "metadata": {},
   "outputs": [],
   "source": []
  }
 ],
 "metadata": {
  "kernelspec": {
   "display_name": "Python 3 (ipykernel)",
   "language": "python",
   "name": "python3"
  },
  "language_info": {
   "codemirror_mode": {
    "name": "ipython",
    "version": 3
   },
   "file_extension": ".py",
   "mimetype": "text/x-python",
   "name": "python",
   "nbconvert_exporter": "python",
   "pygments_lexer": "ipython3",
   "version": "3.9.7"
  }
 },
 "nbformat": 4,
 "nbformat_minor": 5
}
